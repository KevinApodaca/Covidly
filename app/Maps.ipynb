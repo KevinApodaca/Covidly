{
 "cells": [
  {
   "cell_type": "code",
   "execution_count": 1,
   "metadata": {},
   "outputs": [],
   "source": [
    "# Import Libraries\n",
    "\n",
    "import requests\n",
    "from bs4 import BeautifulSoup\n",
    "import pandas as pd\n",
    "import plotly.express as px\n",
    "from plotly.offline import plot"
   ]
  },
  {
   "cell_type": "code",
   "execution_count": 2,
   "metadata": {},
   "outputs": [],
   "source": [
    "# Perform Web scrapping with BeautifulSoup\n",
    "#The following lines of code retrieve the data to be used from a github repository\n",
    "\n",
    "github = 'https://github.com'\n",
    "URL = 'https://github.com/CSSEGISandData/COVID-19/tree/master/csse_covid_19_data/csse_covid_19_daily_reports'\n",
    "\n",
    "page = requests.get(URL)\n",
    "soup = BeautifulSoup(page.content, 'html.parser')\n",
    "\n",
    "latest = soup.find_all('a')[-21]['href']\n",
    "\n",
    "latestURL = github + latest\n",
    "latestPage = requests.get(latestURL, 'html.parser')\n",
    "\n",
    "soup = BeautifulSoup(latestPage.content, 'html.parser')\n",
    "raw = str(soup.find(id='raw-url')['href'])\n",
    "rawURL = github + raw"
   ]
  },
  {
   "cell_type": "code",
   "execution_count": 3,
   "metadata": {},
   "outputs": [],
   "source": [
    "# Create DataFrame:\n",
    "# This df contains daily reports (Confirmed, Deaths, Recovered and Active). Also, drop the rows (axis=0) where the Lat value is missing and \n",
    "# fillup the fields with 0 where data is missing. Lastly, get the data for the last update\n",
    "\n",
    "df = pd.read_csv(rawURL)\n",
    "df = df.dropna(axis=0, subset=['Lat'])\n",
    "df = df.fillna(0)\n",
    "date, time = df.iloc[0,4].split()"
   ]
  },
  {
   "cell_type": "code",
   "execution_count": 4,
   "metadata": {},
   "outputs": [
    {
     "data": {
      "text/plain": [
       "'temp-plot.html'"
      ]
     },
     "execution_count": 4,
     "metadata": {},
     "output_type": "execute_result"
    }
   ],
   "source": [
    "# Map 2\n",
    "# This map focuses on Deaths but it can be changed. Test 'mapbox_layers' to see another theme for the map\n",
    "\n",
    "date, time = df.iloc[0,4].split()\n",
    "\n",
    "fig_map2 = px.scatter_mapbox(\n",
    "    df, lat=\"Lat\", lon=\"Long_\",\n",
    "    color=\"Deaths\",\n",
    "    size=\"Deaths\",\n",
    "    color_continuous_scale=px.colors.sequential.Jet,\n",
    "    size_max=60,\n",
    "    zoom=3, \n",
    "    center={\"lat\": 37.0902, \"lon\": -95.7129},              \n",
    "    hover_data=['Province_State'],\n",
    "    mapbox_style='open-street-map',\n",
    "    hover_name='Country_Region'\n",
    ")\n",
    "fig_map2.update_layout(\n",
    "    title=f'{date}',\n",
    "    #mapbox_layers=[\n",
    "        #{\n",
    "       #     \"below\": 'traces',\n",
    "      #      \"sourcetype\": \"raster\",\n",
    "     #       \"sourceattribution\": \"United States Geological Survey\",\n",
    "    #        \"source\": [\n",
    "   #             \"https://basemap.nationalmap.gov/arcgis/rest/services/USGSImageryOnly/MapServer/tile/{z}/{y}/{x}\"\n",
    "  #          ]\n",
    " #       }\n",
    "#      ]\n",
    ")\n",
    "plot(fig_map2)"
   ]
  }
 ],
 "metadata": {
  "kernelspec": {
   "display_name": "Python 3",
   "language": "python",
   "name": "python3"
  },
  "language_info": {
   "codemirror_mode": {
    "name": "ipython",
    "version": 3
   },
   "file_extension": ".py",
   "mimetype": "text/x-python",
   "name": "python",
   "nbconvert_exporter": "python",
   "pygments_lexer": "ipython3",
   "version": "3.8.5"
  }
 },
 "nbformat": 4,
 "nbformat_minor": 4
}
